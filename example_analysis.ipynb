{
  "cells": [
    {
      "cell_type": "code",
      "execution_count": null,
      "id": "c0610803",
      "metadata": {},
      "outputs": [],
      "source": [
        "---\n",
        "title: \"Example of Trajectory Entropy Analysis\"\n",
        "format: html\n",
        "---"
      ]
    },
    {
      "cell_type": "code",
      "execution_count": 1,
      "id": "97057371",
      "metadata": {},
      "outputs": [
        {
          "ename": "LoadError",
          "evalue": "LoadError: SystemError: opening file \"/Users/davtj/Github/TrajectoryEntropy/coord_to_deg.jl\": No such file or directory\nin expression starting at /Users/davtj/Github/TrajectoryEntropy/TrajectoryEntropy.jl:16",
          "output_type": "error",
          "traceback": [
            "LoadError: SystemError: opening file \"/Users/davtj/Github/TrajectoryEntropy/coord_to_deg.jl\": No such file or directory\n",
            "in expression starting at /Users/davtj/Github/TrajectoryEntropy/TrajectoryEntropy.jl:16\n",
            "\n",
            "Stacktrace:\n",
            "  [1] systemerror(p::String, errno::Int32; extrainfo::Nothing)\n",
            "    @ Base ./error.jl:176\n",
            "  [2] systemerror\n",
            "    @ Base ./error.jl:175 [inlined]\n",
            "  [3] open(fname::String; lock::Bool, read::Nothing, write::Nothing, create::Nothing, truncate::Nothing, append::Nothing)\n",
            "    @ Base ./iostream.jl:293\n",
            "  [4] open\n",
            "    @ Base ./iostream.jl:275 [inlined]\n",
            "  [5] open(f::Base.var\"#433#434\"{String}, args::String; kwargs::@Kwargs{})\n",
            "    @ Base ./io.jl:394\n",
            "  [6] open\n",
            "    @ Base ./io.jl:393 [inlined]\n",
            "  [7] read\n",
            "    @ Base ./io.jl:486 [inlined]\n",
            "  [8] _include(mapexpr::Function, mod::Module, _path::String)\n",
            "    @ Base ./loading.jl:2126\n",
            "  [9] include(fname::String)\n",
            "    @ Base.MainInclude ./client.jl:489\n",
            " [10] top-level scope\n",
            "    @ ~/Github/TrajectoryEntropy/TrajectoryEntropy.jl:16"
          ]
        }
      ],
      "source": [
        "using CSV, \n",
        "    DataFrames, \n",
        "    Statistics, \n",
        "    StatsBase, \n",
        "    Plots, \n",
        "    Distances, \n",
        "    Unitful,\n",
        "    NaNMath,\n",
        "    Optim,\n",
        "    StatsPlots\n",
        "    \n",
        "include(\"TrajectoryEntropy.jl\")"
      ]
    },
    {
      "cell_type": "code",
      "execution_count": null,
      "id": "f69198e9",
      "metadata": {},
      "outputs": [],
      "source": [
        "trajectory_data = CSV.read(\"example_data/trajectory1.csv\", DataFrame)"
      ]
    },
    {
      "cell_type": "code",
      "execution_count": null,
      "id": "4d221639",
      "metadata": {},
      "outputs": [],
      "source": [
        "filter!(row -> row[:active] == 1, trajectory_data)"
      ]
    },
    {
      "cell_type": "code",
      "execution_count": null,
      "id": "eb74de99",
      "metadata": {},
      "outputs": [],
      "source": [
        "# keep only positions where y is less than a critical value\n",
        "critical_y = -0.1\n",
        "filter!(row -> row[:y_pos] < critical_y, trajectory_data)\n",
        "\n",
        "# reset data to start point 0,0\n",
        "x_positions = trajectory_data.x_pos .- trajectory_data.x_pos[1]\n",
        "y_positions = trajectory_data.y_pos .- trajectory_data.y_pos[1]\n",
        "\n",
        "# if last x position is negative, flip all x positions\n",
        "if x_positions[end] < 0\n",
        "    x_positions = -1 * x_positions\n",
        "end"
      ]
    },
    {
      "cell_type": "code",
      "execution_count": null,
      "id": "113de842",
      "metadata": {},
      "outputs": [],
      "source": [
        "traj_plot = Plots.plot(x_positions, y_positions,\n",
        "                       seriestype = :scatter, \n",
        "                       xlabel = \"x coordinates\", \n",
        "                       ylabel = \"y coordinates\", \n",
        "                       xguidefont = font(16, halign = :center, valign = :center, color = :black, rotation = 0), \n",
        "                       yguidefont = font(16, halign = :center, valign = :center, color = :black, rotation = 0), \n",
        "                       title = \"Trajectory Plot\", \n",
        "                       legend = false, \n",
        "                       #xlims = (-.05, .40),\n",
        "                       #ylims = (-.05, .40), \n",
        "                       #xticks = -.5:.5:.5,\n",
        "                       margin = 5Plots.mm,\n",
        "                       tickfont = font(14), # change x-tick label size\n",
        "                       ytickfont = font(14),\n",
        "                       aspect_ratio = 1 \n",
        "                          )"
      ]
    },
    {
      "cell_type": "code",
      "execution_count": null,
      "id": "7698de40",
      "metadata": {},
      "outputs": [],
      "source": [
        "# perform TEA analysis\n",
        "\n",
        "#-------- TEA Options\n",
        "tea_options = Dict(\n",
        "    \"sa_binsize_min\" => 12,\n",
        "    \"sa_binsize_max\" => 20,\n",
        "    \"sa_binsize_step\" => 2,\n",
        "    \"manual_bin_size\" => 12,\n",
        "    \"verbose\" => true,\n",
        "    \"maxInner\" => 25000,\n",
        "    \"maxOuter\" => 50,\n",
        "    \"maxFunEvals\" => 25000,\n",
        "    \"unique_algorithm\" => \"julia\",\n",
        "    \"unique_tol\" => 0.01,\n",
        "    \"decompose\" => true\n",
        ");"
      ]
    },
    {
      "cell_type": "code",
      "execution_count": null,
      "id": "09ab56f8",
      "metadata": {},
      "outputs": [],
      "source": [
        "tea(x_positions, y_positions, tea_options; binHist = 22, plot = false, verbose = true, decompose = true)"
      ]
    }
  ],
  "metadata": {
    "kernelspec": {
      "display_name": "Julia 1.10.0",
      "language": "julia",
      "name": "julia-1.10"
    },
    "language_info": {
      "file_extension": ".jl",
      "mimetype": "application/julia",
      "name": "julia",
      "version": "1.10.0"
    }
  },
  "nbformat": 4,
  "nbformat_minor": 5
}
