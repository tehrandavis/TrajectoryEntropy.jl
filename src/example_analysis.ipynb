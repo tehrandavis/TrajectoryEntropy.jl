{
  "cells": [
    {
      "cell_type": "raw",
      "metadata": {},
      "source": [
        "---\n",
        "title: \"Example of Trajectory Entropy Analysis\"\n",
        "format: html\n",
        "---"
      ],
      "id": "c0610803"
    },
    {
      "cell_type": "code",
      "metadata": {},
      "source": [
        "using CSV, \n",
        "    DataFrames, \n",
        "    Statistics, \n",
        "    #Optimization, \n",
        "    StatsBase, \n",
        "    Plots, \n",
        "    Distances, \n",
        "    Unitful,\n",
        "    #NaNMath,\n",
        "    Optim,\n",
        "    #GLM,\n",
        "    #EntropyHub,\n",
        "    #NumericalIntegration,\n",
        "    StatsPlots,\n",
        "    #Interpolations,\n",
        "    TrajectoryEntropy"
      ],
      "id": "97057371",
      "execution_count": null,
      "outputs": []
    },
    {
      "cell_type": "code",
      "metadata": {},
      "source": [
        "trajectory_data = CSV.read(\"example_data/trajectory1.csv\", DataFrame)"
      ],
      "id": "f69198e9",
      "execution_count": null,
      "outputs": []
    },
    {
      "cell_type": "code",
      "metadata": {},
      "source": [
        "filter!(row -> row[:active] == 1, trajectory_data)"
      ],
      "id": "4d221639",
      "execution_count": null,
      "outputs": []
    },
    {
      "cell_type": "code",
      "metadata": {},
      "source": [
        "# keep only positions where y is less than a critical value\n",
        "critical_y = -0.1\n",
        "filter!(row -> row[:y_pos] < critical_y, trajectory_data)\n",
        "\n",
        "# reset data to start point 0,0\n",
        "x_positions = trajectory_data.x_pos .- trajectory_data.x_pos[1]\n",
        "y_positions = trajectory_data.y_pos .- trajectory_data.y_pos[1]\n",
        "\n",
        "# if last x position is negative, flip all x positions\n",
        "if x_positions[end] < 0\n",
        "    x_positions = -1 * x_positions\n",
        "end"
      ],
      "id": "eb74de99",
      "execution_count": null,
      "outputs": []
    },
    {
      "cell_type": "code",
      "metadata": {},
      "source": [
        "traj_plot = Plots.plot(x_positions, y_positions,\n",
        "                       seriestype = :scatter, \n",
        "                       xlabel = \"x coordinates\", \n",
        "                       ylabel = \"y coordinates\", \n",
        "                       xguidefont = font(16, halign = :center, valign = :center, color = :black, rotation = 0), \n",
        "                       yguidefont = font(16, halign = :center, valign = :center, color = :black, rotation = 0), \n",
        "                       title = \"Trajectory Plot\", \n",
        "                       legend = false, \n",
        "                       #xlims = (-.05, .40),\n",
        "                       #ylims = (-.05, .40), \n",
        "                       #xticks = -.5:.5:.5,\n",
        "                       margin = 5Plots.mm,\n",
        "                       tickfont = font(14), # change x-tick label size\n",
        "                       ytickfont = font(14),\n",
        "                       aspect_ratio = 1 \n",
        "                          )"
      ],
      "id": "113de842",
      "execution_count": null,
      "outputs": []
    },
    {
      "cell_type": "code",
      "metadata": {},
      "source": [
        "# perform TEA analysis\n",
        "\n",
        "#-------- TEA Options\n",
        "tea_options = Dict(\n",
        "    \"sa_binsize_min\" => 12,\n",
        "    \"sa_binsize_max\" => 20,\n",
        "    \"sa_binsize_step\" => 2,\n",
        "    \"manual_bin_size\" => 12,\n",
        "    \"verbose\" => true,\n",
        "    \"maxInner\" => 25000,\n",
        "    \"maxOuter\" => 50,\n",
        "    \"maxFunEvals\" => 25000,\n",
        "    \"unique_algorithm\" => \"julia\",\n",
        "    \"unique_tol\" => 0.01,\n",
        "    \"decompose\" => true\n",
        ");"
      ],
      "id": "7698de40",
      "execution_count": null,
      "outputs": []
    },
    {
      "cell_type": "code",
      "metadata": {},
      "source": [
        "tea(x_positions, y_positions, tea_options; binHist = 22, plot = false, verbose = true, decompose = true)"
      ],
      "id": "09ab56f8",
      "execution_count": null,
      "outputs": []
    }
  ],
  "metadata": {
    "kernelspec": {
      "name": "julia-1.9",
      "language": "julia",
      "display_name": "Julia 1.9.0"
    }
  },
  "nbformat": 4,
  "nbformat_minor": 5
}